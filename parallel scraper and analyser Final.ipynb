{
 "cells": [
  {
   "cell_type": "code",
   "execution_count": 1,
   "id": "313b5fd2",
   "metadata": {},
   "outputs": [
    {
     "name": "stdout",
     "output_type": "stream",
     "text": [
      "2021-11-26 20:11:09,249 loading file C:\\Users\\soham\\.flair\\models\\sentiment-en-mix-distillbert_4.pt\n"
     ]
    }
   ],
   "source": [
    "from bs4 import BeautifulSoup as bs\n",
    "import requests\n",
    "from datetime import datetime\n",
    "import pandas as pd\n",
    "import numpy as np\n",
    "import re\n",
    "import time\n",
    "import math\n",
    "import worker1 as w1\n",
    "import worker2 as w2\n",
    "import random"
   ]
  },
  {
   "cell_type": "markdown",
   "id": "15505e83",
   "metadata": {},
   "source": [
    "#### Scraping single web page sequentially"
   ]
  },
  {
   "cell_type": "code",
   "execution_count": 2,
   "id": "6bc6ed99",
   "metadata": {},
   "outputs": [],
   "source": [
    "ids = [\"signals_1\",\"signals_2\"]\n",
    "tickers = {'ticker':[],'href':[],'state':[]}\n",
    "for i in ids:\n",
    "    url = \"https://finviz.com/\"\n",
    "    html_text = requests.get(url,headers={'User-Agent': 'Mozilla/5.0'}).text\n",
    "    soup = bs(html_text,\"html.parser\")\n",
    "    table = soup.find(\"table\",{\"id\":i})\n",
    "    rows = table.find_all('tr')\n",
    "    for row in rows:\n",
    "        try:\n",
    "            anchor_ticker = row.find('a',{'class':'tab-link'})\n",
    "            anchor_state = row.find('a',{'class':'tab-link-nw'})\n",
    "            href = anchor_ticker['href']\n",
    "            ticker = anchor_ticker.decode_contents()\n",
    "            state = anchor_state.decode_contents()\n",
    "            tickers['ticker'].append(ticker)\n",
    "            tickers['href'].append(href)\n",
    "            tickers['state'].append(state)\n",
    "        except:\n",
    "            pass"
   ]
  },
  {
   "cell_type": "code",
   "execution_count": 3,
   "id": "82601323",
   "metadata": {},
   "outputs": [
    {
     "name": "stdout",
     "output_type": "stream",
     "text": [
      "['LGVN', 'BFRI', 'PTN', 'IMCC', 'BSFC', 'LOV', 'FEMY', 'LGVN', 'MOV', 'PSTG', 'IRMD', 'COKE', 'TRT', 'OCUP', 'BFRI', 'PTN', 'GAME', 'BLCT', 'ESTA', 'QLGN', 'APVO', 'JWN', 'KTTA', 'VLON', 'GPS', 'CNTG', 'KURA', 'VIOT', 'PLAN', 'VSTA', 'CDZIP', 'LGVN', 'BTTX', 'BFRI', 'SQQQ', 'VG', 'NTZ', 'AOS']\n"
     ]
    }
   ],
   "source": [
    "df = pd.DataFrame(tickers).iloc[:,[0,2]]\n",
    "href_ticker = tickers['ticker']\n",
    "print(href_ticker)"
   ]
  },
  {
   "cell_type": "markdown",
   "id": "1718f123",
   "metadata": {},
   "source": [
    "#### Scraping multiple webpages sequentially"
   ]
  },
  {
   "cell_type": "code",
   "execution_count": 11,
   "id": "1ff4fe47",
   "metadata": {
    "scrolled": false
   },
   "outputs": [
    {
     "name": "stdout",
     "output_type": "stream",
     "text": [
      "Total time taken to scrape: 38.28608417510986 seconds\n"
     ]
    },
    {
     "data": {
      "text/html": [
       "<div>\n",
       "<style scoped>\n",
       "    .dataframe tbody tr th:only-of-type {\n",
       "        vertical-align: middle;\n",
       "    }\n",
       "\n",
       "    .dataframe tbody tr th {\n",
       "        vertical-align: top;\n",
       "    }\n",
       "\n",
       "    .dataframe thead th {\n",
       "        text-align: right;\n",
       "    }\n",
       "</style>\n",
       "<table border=\"1\" class=\"dataframe\">\n",
       "  <thead>\n",
       "    <tr style=\"text-align: right;\">\n",
       "      <th></th>\n",
       "      <th>date</th>\n",
       "      <th>ticker</th>\n",
       "      <th>company</th>\n",
       "      <th>headline</th>\n",
       "    </tr>\n",
       "  </thead>\n",
       "  <tbody>\n",
       "    <tr>\n",
       "      <th>0</th>\n",
       "      <td>2021-11-24</td>\n",
       "      <td>LGVN</td>\n",
       "      <td>Longeveron Inc.</td>\n",
       "      <td>Longeveron is the short squeeze Reddit Apes ca...</td>\n",
       "    </tr>\n",
       "    <tr>\n",
       "      <th>1</th>\n",
       "      <td>2021-11-24</td>\n",
       "      <td>LGVN</td>\n",
       "      <td>Longeveron Inc.</td>\n",
       "      <td>Why Longeveron Stock Is Skyrocketing Today</td>\n",
       "    </tr>\n",
       "    <tr>\n",
       "      <th>2</th>\n",
       "      <td>2021-11-23</td>\n",
       "      <td>LGVN</td>\n",
       "      <td>Longeveron Inc.</td>\n",
       "      <td>Retail Traders Jump Back Into Tiny Biotechs Ah...</td>\n",
       "    </tr>\n",
       "    <tr>\n",
       "      <th>3</th>\n",
       "      <td>2021-11-22</td>\n",
       "      <td>LGVN</td>\n",
       "      <td>Longeveron Inc.</td>\n",
       "      <td>2 Moonshot Biotechs with 10x Potential</td>\n",
       "    </tr>\n",
       "    <tr>\n",
       "      <th>4</th>\n",
       "      <td>2021-11-22</td>\n",
       "      <td>LGVN</td>\n",
       "      <td>Longeveron Inc.</td>\n",
       "      <td>Longeveron stock vaults to another all-time high</td>\n",
       "    </tr>\n",
       "    <tr>\n",
       "      <th>...</th>\n",
       "      <td>...</td>\n",
       "      <td>...</td>\n",
       "      <td>...</td>\n",
       "      <td>...</td>\n",
       "    </tr>\n",
       "    <tr>\n",
       "      <th>95</th>\n",
       "      <td>2020-09-14</td>\n",
       "      <td>AOS</td>\n",
       "      <td>A. O. Smith Corporation</td>\n",
       "      <td>RBC vs. AOS: Which Stock Is the Better Value O...</td>\n",
       "    </tr>\n",
       "    <tr>\n",
       "      <th>96</th>\n",
       "      <td>2020-09-10</td>\n",
       "      <td>AOS</td>\n",
       "      <td>A. O. Smith Corporation</td>\n",
       "      <td>Hedge Funds Have Never Been This Bullish On A....</td>\n",
       "    </tr>\n",
       "    <tr>\n",
       "      <th>97</th>\n",
       "      <td>2020-09-01</td>\n",
       "      <td>AOS</td>\n",
       "      <td>A. O. Smith Corporation</td>\n",
       "      <td>These 4 Measures Indicate That A. O. Smith (NY...</td>\n",
       "    </tr>\n",
       "    <tr>\n",
       "      <th>98</th>\n",
       "      <td>2020-08-29</td>\n",
       "      <td>AOS</td>\n",
       "      <td>A. O. Smith Corporation</td>\n",
       "      <td>A.O. Smith (AOS) Up 1.9% Since Last Earnings R...</td>\n",
       "    </tr>\n",
       "    <tr>\n",
       "      <th>99</th>\n",
       "      <td>2020-08-17</td>\n",
       "      <td>AOS</td>\n",
       "      <td>A. O. Smith Corporation</td>\n",
       "      <td>ENS vs. AOS: Which Stock Is the Better Value O...</td>\n",
       "    </tr>\n",
       "  </tbody>\n",
       "</table>\n",
       "<p>2759 rows × 4 columns</p>\n",
       "</div>"
      ],
      "text/plain": [
       "          date ticker                  company  \\\n",
       "0   2021-11-24   LGVN          Longeveron Inc.   \n",
       "1   2021-11-24   LGVN          Longeveron Inc.   \n",
       "2   2021-11-23   LGVN          Longeveron Inc.   \n",
       "3   2021-11-22   LGVN          Longeveron Inc.   \n",
       "4   2021-11-22   LGVN          Longeveron Inc.   \n",
       "..         ...    ...                      ...   \n",
       "95  2020-09-14    AOS  A. O. Smith Corporation   \n",
       "96  2020-09-10    AOS  A. O. Smith Corporation   \n",
       "97  2020-09-01    AOS  A. O. Smith Corporation   \n",
       "98  2020-08-29    AOS  A. O. Smith Corporation   \n",
       "99  2020-08-17    AOS  A. O. Smith Corporation   \n",
       "\n",
       "                                             headline  \n",
       "0   Longeveron is the short squeeze Reddit Apes ca...  \n",
       "1          Why Longeveron Stock Is Skyrocketing Today  \n",
       "2   Retail Traders Jump Back Into Tiny Biotechs Ah...  \n",
       "3              2 Moonshot Biotechs with 10x Potential  \n",
       "4    Longeveron stock vaults to another all-time high  \n",
       "..                                                ...  \n",
       "95  RBC vs. AOS: Which Stock Is the Better Value O...  \n",
       "96  Hedge Funds Have Never Been This Bullish On A....  \n",
       "97  These 4 Measures Indicate That A. O. Smith (NY...  \n",
       "98  A.O. Smith (AOS) Up 1.9% Since Last Earnings R...  \n",
       "99  ENS vs. AOS: Which Stock Is the Better Value O...  \n",
       "\n",
       "[2759 rows x 4 columns]"
      ]
     },
     "execution_count": 11,
     "metadata": {},
     "output_type": "execute_result"
    }
   ],
   "source": [
    "newdf0 = pd.DataFrame()\n",
    "begin = time.time()\n",
    "df1 = df[0:2]\n",
    "df0 = pd.DataFrame()\n",
    "num_of_tickers = len(df)\n",
    "for i in range(num_of_tickers):\n",
    "    #print(df1.iloc[i]['ticker'])\n",
    "    newdf = w1.scrape_ticker(df.iloc[i]['ticker'])\n",
    "    print(str(i+1)+\" of \"+str(num_of_tickers),end=\"\\r\")\n",
    "    df0 = df0.append(newdf)\n",
    "end = time.time()\n",
    "print(f\"Total time taken to scrape: {end - begin} seconds\")\n",
    "df0"
   ]
  },
  {
   "cell_type": "markdown",
   "id": "4a33a12b",
   "metadata": {},
   "source": [
    "### Parallel webscraping with Pool"
   ]
  },
  {
   "cell_type": "code",
   "execution_count": 12,
   "id": "010aef88",
   "metadata": {},
   "outputs": [
    {
     "name": "stdout",
     "output_type": "stream",
     "text": [
      "Number of CPUs in the system: 4\n"
     ]
    }
   ],
   "source": [
    "from multiprocessing import Pool\n",
    "import os\n",
    "cpuCount = os.cpu_count()\n",
    "print(\"Number of CPUs in the system:\", cpuCount)"
   ]
  },
  {
   "cell_type": "code",
   "execution_count": 13,
   "id": "49813002",
   "metadata": {},
   "outputs": [
    {
     "name": "stdout",
     "output_type": "stream",
     "text": [
      "Total time taken to scrape: 47.07102680206299 seconds\n",
      "Total time taken to scrape: 17.925156354904175 seconds\n",
      "Total time taken to scrape: 12.281540393829346 seconds\n",
      "Total time taken to scrape: 9.065622568130493 seconds\n"
     ]
    }
   ],
   "source": [
    "\n",
    "newdf0 = pd.DataFrame()\n",
    "results = []\n",
    "time_taken = []\n",
    "max_sub_procs = []\n",
    "for i in range(1,cpuCount+1):\n",
    "    p = Pool(i)  # Pool tells how many at a time\n",
    "    begin = time.time()\n",
    "    results = p.map(w1.scrape_ticker, href_ticker)\n",
    "    p.terminate()\n",
    "    p.join()\n",
    "    end = time.time()\n",
    "    print(f\"Total time taken to scrape: {end - begin} seconds\")\n",
    "    time_taken.append(end-begin)\n",
    "    max_sub_procs.append(i)\n"
   ]
  },
  {
   "cell_type": "code",
   "execution_count": 14,
   "id": "7afb3af8",
   "metadata": {},
   "outputs": [
    {
     "data": {
      "image/png": "[encoded data removed]",
      "text/plain": [
       "<Figure size 432x288 with 1 Axes>"
      ]
     },
     "metadata": {
      "needs_background": "light"
     },
     "output_type": "display_data"
    }
   ],
   "source": [
    "from matplotlib import pyplot\n",
    "pyplot.plot(max_sub_procs,time_taken)\n",
    "pyplot.xlabel(\"No. of processes\")\n",
    "pyplot.ylabel(\"Time taken in s\")\n",
    "pyplot.show()"
   ]
  },
  {
   "cell_type": "markdown",
   "id": "1506d552",
   "metadata": {},
   "source": [
    "### Parallel scraping with max no. of cores\n",
    "\n",
    "As the minimum time was taken by parallel scraping on 4 cores, it is chosen for the scraping"
   ]
  },
  {
   "cell_type": "code",
   "execution_count": 16,
   "id": "e18d2744",
   "metadata": {},
   "outputs": [
    {
     "name": "stdout",
     "output_type": "stream",
     "text": [
      "Total time taken to scrape: 9.892616510391235 seconds\n"
     ]
    }
   ],
   "source": [
    "results = []\n",
    "p = Pool(cpuCount)  # Pool tells how many at a time\n",
    "begin = time.time()\n",
    "results = p.map(w1.scrape_ticker, href_ticker)\n",
    "p.terminate()\n",
    "p.join()\n",
    "end = time.time()\n",
    "print(f\"Total time taken to scrape: {end - begin} seconds\")\n",
    "time_taken.append(end-begin)\n",
    "max_sub_procs.append(i)"
   ]
  },
  {
   "cell_type": "code",
   "execution_count": 17,
   "id": "1567bb1c",
   "metadata": {},
   "outputs": [
    {
     "data": {
      "text/html": [
       "<div>\n",
       "<style scoped>\n",
       "    .dataframe tbody tr th:only-of-type {\n",
       "        vertical-align: middle;\n",
       "    }\n",
       "\n",
       "    .dataframe tbody tr th {\n",
       "        vertical-align: top;\n",
       "    }\n",
       "\n",
       "    .dataframe thead th {\n",
       "        text-align: right;\n",
       "    }\n",
       "</style>\n",
       "<table border=\"1\" class=\"dataframe\">\n",
       "  <thead>\n",
       "    <tr style=\"text-align: right;\">\n",
       "      <th></th>\n",
       "      <th>date</th>\n",
       "      <th>ticker</th>\n",
       "      <th>company</th>\n",
       "      <th>headline</th>\n",
       "    </tr>\n",
       "  </thead>\n",
       "  <tbody>\n",
       "    <tr>\n",
       "      <th>0</th>\n",
       "      <td>2021-11-24</td>\n",
       "      <td>LGVN</td>\n",
       "      <td>Longeveron Inc.</td>\n",
       "      <td>Longeveron is the short squeeze Reddit Apes ca...</td>\n",
       "    </tr>\n",
       "    <tr>\n",
       "      <th>1</th>\n",
       "      <td>2021-11-24</td>\n",
       "      <td>LGVN</td>\n",
       "      <td>Longeveron Inc.</td>\n",
       "      <td>Why Longeveron Stock Is Skyrocketing Today</td>\n",
       "    </tr>\n",
       "    <tr>\n",
       "      <th>2</th>\n",
       "      <td>2021-11-23</td>\n",
       "      <td>LGVN</td>\n",
       "      <td>Longeveron Inc.</td>\n",
       "      <td>Retail Traders Jump Back Into Tiny Biotechs Ah...</td>\n",
       "    </tr>\n",
       "    <tr>\n",
       "      <th>3</th>\n",
       "      <td>2021-11-22</td>\n",
       "      <td>LGVN</td>\n",
       "      <td>Longeveron Inc.</td>\n",
       "      <td>2 Moonshot Biotechs with 10x Potential</td>\n",
       "    </tr>\n",
       "    <tr>\n",
       "      <th>4</th>\n",
       "      <td>2021-11-22</td>\n",
       "      <td>LGVN</td>\n",
       "      <td>Longeveron Inc.</td>\n",
       "      <td>Longeveron stock vaults to another all-time high</td>\n",
       "    </tr>\n",
       "    <tr>\n",
       "      <th>...</th>\n",
       "      <td>...</td>\n",
       "      <td>...</td>\n",
       "      <td>...</td>\n",
       "      <td>...</td>\n",
       "    </tr>\n",
       "    <tr>\n",
       "      <th>2754</th>\n",
       "      <td>2020-09-14</td>\n",
       "      <td>AOS</td>\n",
       "      <td>A. O. Smith Corporation</td>\n",
       "      <td>RBC vs. AOS: Which Stock Is the Better Value O...</td>\n",
       "    </tr>\n",
       "    <tr>\n",
       "      <th>2755</th>\n",
       "      <td>2020-09-10</td>\n",
       "      <td>AOS</td>\n",
       "      <td>A. O. Smith Corporation</td>\n",
       "      <td>Hedge Funds Have Never Been This Bullish On A....</td>\n",
       "    </tr>\n",
       "    <tr>\n",
       "      <th>2756</th>\n",
       "      <td>2020-09-01</td>\n",
       "      <td>AOS</td>\n",
       "      <td>A. O. Smith Corporation</td>\n",
       "      <td>These 4 Measures Indicate That A. O. Smith (NY...</td>\n",
       "    </tr>\n",
       "    <tr>\n",
       "      <th>2757</th>\n",
       "      <td>2020-08-29</td>\n",
       "      <td>AOS</td>\n",
       "      <td>A. O. Smith Corporation</td>\n",
       "      <td>A.O. Smith (AOS) Up 1.9% Since Last Earnings R...</td>\n",
       "    </tr>\n",
       "    <tr>\n",
       "      <th>2758</th>\n",
       "      <td>2020-08-17</td>\n",
       "      <td>AOS</td>\n",
       "      <td>A. O. Smith Corporation</td>\n",
       "      <td>ENS vs. AOS: Which Stock Is the Better Value O...</td>\n",
       "    </tr>\n",
       "  </tbody>\n",
       "</table>\n",
       "<p>2759 rows × 4 columns</p>\n",
       "</div>"
      ],
      "text/plain": [
       "            date ticker                  company  \\\n",
       "0     2021-11-24   LGVN          Longeveron Inc.   \n",
       "1     2021-11-24   LGVN          Longeveron Inc.   \n",
       "2     2021-11-23   LGVN          Longeveron Inc.   \n",
       "3     2021-11-22   LGVN          Longeveron Inc.   \n",
       "4     2021-11-22   LGVN          Longeveron Inc.   \n",
       "...          ...    ...                      ...   \n",
       "2754  2020-09-14    AOS  A. O. Smith Corporation   \n",
       "2755  2020-09-10    AOS  A. O. Smith Corporation   \n",
       "2756  2020-09-01    AOS  A. O. Smith Corporation   \n",
       "2757  2020-08-29    AOS  A. O. Smith Corporation   \n",
       "2758  2020-08-17    AOS  A. O. Smith Corporation   \n",
       "\n",
       "                                               headline  \n",
       "0     Longeveron is the short squeeze Reddit Apes ca...  \n",
       "1            Why Longeveron Stock Is Skyrocketing Today  \n",
       "2     Retail Traders Jump Back Into Tiny Biotechs Ah...  \n",
       "3                2 Moonshot Biotechs with 10x Potential  \n",
       "4      Longeveron stock vaults to another all-time high  \n",
       "...                                                 ...  \n",
       "2754  RBC vs. AOS: Which Stock Is the Better Value O...  \n",
       "2755  Hedge Funds Have Never Been This Bullish On A....  \n",
       "2756  These 4 Measures Indicate That A. O. Smith (NY...  \n",
       "2757  A.O. Smith (AOS) Up 1.9% Since Last Earnings R...  \n",
       "2758  ENS vs. AOS: Which Stock Is the Better Value O...  \n",
       "\n",
       "[2759 rows x 4 columns]"
      ]
     },
     "execution_count": 17,
     "metadata": {},
     "output_type": "execute_result"
    }
   ],
   "source": [
    "data = pd.concat(results).reset_index(drop=True)\n",
    "data"
   ]
  },
  {
   "cell_type": "markdown",
   "id": "4205a38b",
   "metadata": {},
   "source": [
    "### TextBlob vs Flair\n",
    "A comparative study was performed of seven publicly available and well-known libraries that can elicit named entities: Stanford NER, spaCy, NLTK, Polyglot, Flair, GATE and DeepPavlov.\n",
    "\n",
    "**For the English language close values of the F1-score for the problem of Named Entities Recognition have the Flair and DeepPavlov libraries.**\n",
    "\n",
    "S. Vychegzhanin and E. Kotelnikov, *Comparison of Named Entity Recognition Tools Applied to News Articles*, Moscow, Russia: IEEE 2019"
   ]
  },
  {
   "cell_type": "code",
   "execution_count": 18,
   "id": "d0dfae78",
   "metadata": {},
   "outputs": [],
   "source": [
    "from textblob import TextBlob as tb"
   ]
  },
  {
   "cell_type": "code",
   "execution_count": 19,
   "id": "8ceaa2d7",
   "metadata": {},
   "outputs": [
    {
     "name": "stdout",
     "output_type": "stream",
     "text": [
      "Total time taken to calculate sentiment: 1.0582904815673828 seconds\n",
      "rows scanned: 2759\n"
     ]
    }
   ],
   "source": [
    "\n",
    "news_dict_p = dict()#polarity\n",
    "news_dict_s = dict()#subjectivity\n",
    "begin = time.time()\n",
    "counter = 0\n",
    "for i in range(len(data)):\n",
    "    sentence = data['headline'][i]\n",
    "    try:\n",
    "        analysis = tb(sentence).sentiment\n",
    "        score1 = analysis.polarity#*analysis.subjectivity\n",
    "        score2 = analysis.subjectivity\n",
    "    except:\n",
    "        score1 = 0\n",
    "        score2 = 0\n",
    "    news_dict_p[i]=score1\n",
    "    news_dict_s[i]=score2\n",
    "    counter+=1\n",
    "    #print(i)\n",
    "end = time.time()\n",
    "print(f\"Total time taken to calculate sentiment: {end - begin} seconds\")\n",
    "print(\"rows scanned: \"+str(counter))"
   ]
  },
  {
   "cell_type": "code",
   "execution_count": 28,
   "id": "340f76ed",
   "metadata": {},
   "outputs": [
    {
     "name": "stdout",
     "output_type": "stream",
     "text": [
      "Scores of 10 randomly picked headlines: \n",
      "\n"
     ]
    },
    {
     "data": {
      "text/html": [
       "<div>\n",
       "<style scoped>\n",
       "    .dataframe tbody tr th:only-of-type {\n",
       "        vertical-align: middle;\n",
       "    }\n",
       "\n",
       "    .dataframe tbody tr th {\n",
       "        vertical-align: top;\n",
       "    }\n",
       "\n",
       "    .dataframe thead th {\n",
       "        text-align: right;\n",
       "    }\n",
       "</style>\n",
       "<table border=\"1\" class=\"dataframe\">\n",
       "  <thead>\n",
       "    <tr style=\"text-align: right;\">\n",
       "      <th></th>\n",
       "      <th>headline</th>\n",
       "      <th>sentiment_score</th>\n",
       "      <th>subjectivity_score</th>\n",
       "    </tr>\n",
       "  </thead>\n",
       "  <tbody>\n",
       "    <tr>\n",
       "      <th>0</th>\n",
       "      <td>A Look At The Fair Value Of Viomi Technology C...</td>\n",
       "      <td>0.700000</td>\n",
       "      <td>0.900000</td>\n",
       "    </tr>\n",
       "    <tr>\n",
       "      <th>1</th>\n",
       "      <td>BLCT Upcoming Deadline: Bronstein, Gewirtz &amp;am...</td>\n",
       "      <td>0.014286</td>\n",
       "      <td>0.121429</td>\n",
       "    </tr>\n",
       "    <tr>\n",
       "      <th>2</th>\n",
       "      <td>Influencers with Andy Serwer: Bruce Greenwald</td>\n",
       "      <td>0.000000</td>\n",
       "      <td>0.000000</td>\n",
       "    </tr>\n",
       "    <tr>\n",
       "      <th>3</th>\n",
       "      <td>FDA Approves New Drug Application for Vyleesi ...</td>\n",
       "      <td>0.136364</td>\n",
       "      <td>0.454545</td>\n",
       "    </tr>\n",
       "    <tr>\n",
       "      <th>4</th>\n",
       "      <td>Ocuphires VEGA-1 Phase 2 Trial in Presbyopia M...</td>\n",
       "      <td>0.050000</td>\n",
       "      <td>0.400000</td>\n",
       "    </tr>\n",
       "    <tr>\n",
       "      <th>5</th>\n",
       "      <td>Aptevo Announces Pricing of $22 Million Offeri...</td>\n",
       "      <td>-0.300000</td>\n",
       "      <td>0.500000</td>\n",
       "    </tr>\n",
       "    <tr>\n",
       "      <th>6</th>\n",
       "      <td>How the coronavirus scare has driven dangerous...</td>\n",
       "      <td>-0.600000</td>\n",
       "      <td>0.900000</td>\n",
       "    </tr>\n",
       "    <tr>\n",
       "      <th>7</th>\n",
       "      <td>Here's Why We're Not Too Worried About Ocuphir...</td>\n",
       "      <td>0.000000</td>\n",
       "      <td>0.000000</td>\n",
       "    </tr>\n",
       "    <tr>\n",
       "      <th>8</th>\n",
       "      <td>Ocuphire Initiates ZETA-1 Phase 2 Clinical Tri...</td>\n",
       "      <td>0.000000</td>\n",
       "      <td>0.000000</td>\n",
       "    </tr>\n",
       "    <tr>\n",
       "      <th>9</th>\n",
       "      <td>Establishment Labs Announces Participation in ...</td>\n",
       "      <td>0.000000</td>\n",
       "      <td>0.000000</td>\n",
       "    </tr>\n",
       "  </tbody>\n",
       "</table>\n",
       "</div>"
      ],
      "text/plain": [
       "                                            headline  sentiment_score  \\\n",
       "0  A Look At The Fair Value Of Viomi Technology C...         0.700000   \n",
       "1  BLCT Upcoming Deadline: Bronstein, Gewirtz &am...         0.014286   \n",
       "2      Influencers with Andy Serwer: Bruce Greenwald         0.000000   \n",
       "3  FDA Approves New Drug Application for Vyleesi ...         0.136364   \n",
       "4  Ocuphires VEGA-1 Phase 2 Trial in Presbyopia M...         0.050000   \n",
       "5  Aptevo Announces Pricing of $22 Million Offeri...        -0.300000   \n",
       "6  How the coronavirus scare has driven dangerous...        -0.600000   \n",
       "7  Here's Why We're Not Too Worried About Ocuphir...         0.000000   \n",
       "8  Ocuphire Initiates ZETA-1 Phase 2 Clinical Tri...         0.000000   \n",
       "9  Establishment Labs Announces Participation in ...         0.000000   \n",
       "\n",
       "   subjectivity_score  \n",
       "0            0.900000  \n",
       "1            0.121429  \n",
       "2            0.000000  \n",
       "3            0.454545  \n",
       "4            0.400000  \n",
       "5            0.500000  \n",
       "6            0.900000  \n",
       "7            0.000000  \n",
       "8            0.000000  \n",
       "9            0.000000  "
      ]
     },
     "execution_count": 28,
     "metadata": {},
     "output_type": "execute_result"
    }
   ],
   "source": [
    "\n",
    "r = [random.choice(list(news_dict_p)) for i in range(10)]\n",
    "\n",
    "xdf = pd.DataFrame({\"headline\":[data['headline'][i] for i in r],\"sentiment_score\":[news_dict_p[i] for i in r]})\n",
    "xdf[\"subjectivity_score\"] = [news_dict_s[i] for i in r]\n",
    "print(\"Scores of 10 randomly picked headlines: \\n\")\n",
    "xdf\n"
   ]
  },
  {
   "cell_type": "markdown",
   "id": "cd33ed73",
   "metadata": {},
   "source": [
    "### Sequential with Flair"
   ]
  },
  {
   "cell_type": "code",
   "execution_count": 29,
   "id": "c7acd8e1",
   "metadata": {},
   "outputs": [
    {
     "name": "stdout",
     "output_type": "stream",
     "text": [
      "2021-11-26 20:43:44,914 loading file C:\\Users\\soham\\.flair\\models\\sentiment-en-mix-distillbert_4.pt\n"
     ]
    }
   ],
   "source": [
    "#from flair.embeddings import WordEmbeddings\n",
    "import time\n",
    "from flair.models import TextClassifier\n",
    "from flair.data import Sentence\n",
    "sia = TextClassifier.load('en-sentiment')\n",
    "\n",
    "def flair_prediction(x):\n",
    "    sentence = Sentence(x)\n",
    "    sia.predict(sentence)\n",
    "    score = sentence.labels[0]\n",
    "    if \"POSITIVE\" in str(score):\n",
    "        return \"pos\"\n",
    "    elif \"NEGATIVE\" in str(score):\n",
    "        return \"neg\"\n",
    "    else:\n",
    "        return \"neu\"\n"
   ]
  },
  {
   "cell_type": "code",
   "execution_count": 36,
   "id": "f671a9cf",
   "metadata": {
    "scrolled": true
   },
   "outputs": [
    {
     "name": "stdout",
     "output_type": "stream",
     "text": [
      "Total time taken to calculate sentiment: 113.76799631118774 seconds\n"
     ]
    }
   ],
   "source": [
    "sentiment = []\n",
    "begin = time.time()\n",
    "n = len(data)\n",
    "for i in range(n):\n",
    "    sentiment.append(flair_prediction(data[\"headline\"][i]))\n",
    "    print(str(i+1)+\" of \"+str(n),end=\"\\r\")\n",
    "end = time.time()\n",
    "print(f\"Total time taken to calculate sentiment: {end - begin} seconds\")"
   ]
  },
  {
   "cell_type": "code",
   "execution_count": 32,
   "id": "60465c3c",
   "metadata": {},
   "outputs": [
    {
     "name": "stdout",
     "output_type": "stream",
     "text": [
      "['pos', 'neg', 'neg', 'neg', 'neg', 'pos', 'neg', 'neg', 'pos', 'neg', 'neg', 'pos', 'pos', 'neg', 'neg', 'pos', 'pos', 'pos', 'neg', 'neg', 'neg', 'neg', 'neg', 'pos', 'neg', 'neg', 'neg', 'neg', 'neg', 'neg', 'pos', 'neg', 'pos', 'neg', 'neg', 'neg', 'pos', 'neg', 'neg', 'neg', 'neg', 'neg', 'pos', 'pos', 'neg', 'neg', 'pos', 'neg', 'neg', 'pos']\n"
     ]
    }
   ],
   "source": [
    "print(sentiment[0:50])"
   ]
  },
  {
   "cell_type": "markdown",
   "id": "2feabaa8",
   "metadata": {},
   "source": [
    "### Parallel with Flair and joblib"
   ]
  },
  {
   "cell_type": "code",
   "execution_count": 49,
   "id": "5d7db4c0",
   "metadata": {},
   "outputs": [],
   "source": [
    "from joblib import Parallel, delayed\n",
    "from tqdm import tqdm_notebook\n",
    "from multiprocessing import cpu_count"
   ]
  },
  {
   "cell_type": "code",
   "execution_count": 35,
   "id": "b9b0983f",
   "metadata": {},
   "outputs": [
    {
     "name": "stdout",
     "output_type": "stream",
     "text": [
      "2021-11-26 20:51:25,375 loading file C:\\Users\\soham\\.flair\\models\\sentiment-en-mix-distillbert_4.pt\n"
     ]
    },
    {
     "data": {
      "text/plain": [
       "<module 'worker2' from 'C:\\\\Users\\\\soham\\\\PDC\\\\worker2.py'>"
      ]
     },
     "execution_count": 35,
     "metadata": {},
     "output_type": "execute_result"
    }
   ],
   "source": [
    "import sys\n",
    "import importlib\n",
    "importlib.reload(w2)"
   ]
  },
  {
   "cell_type": "markdown",
   "id": "fe19f9c6",
   "metadata": {},
   "source": [
    "#### Multiprocessing"
   ]
  },
  {
   "cell_type": "code",
   "execution_count": 56,
   "id": "a265c95a",
   "metadata": {
    "scrolled": false
   },
   "outputs": [
    {
     "name": "stdout",
     "output_type": "stream",
     "text": [
      "Processes: 4\n"
     ]
    },
    {
     "name": "stderr",
     "output_type": "stream",
     "text": [
      "<ipython-input-56-e819d0b82cbd>:5: TqdmDeprecationWarning: This function will be removed in tqdm==5.0.0\n",
      "Please use `tqdm.notebook.tqdm` instead of `tqdm.tqdm_notebook`\n",
      "  return Parallel(n_jobs=processes,prefer=\"processes\")(delayed(func)(i) for i in tqdm_notebook(iterable))\n"
     ]
    },
    {
     "data": {
      "application/vnd.jupyter.widget-view+json": {
       "model_id": "39be3bfbec194acfaee776accc24fad2",
       "version_major": 2,
       "version_minor": 0
      },
      "text/plain": [
       "  0%|          | 0/2759 [00:00<?, ?it/s]"
      ]
     },
     "metadata": {},
     "output_type": "display_data"
    },
    {
     "name": "stdout",
     "output_type": "stream",
     "text": [
      "Total time taken to calculate sentiment: 85.762136220932 seconds\n"
     ]
    }
   ],
   "source": [
    "\n",
    "iterable = data.values\n",
    "\n",
    "def parallelize(iterable, func,processes):\n",
    "    print(\"Processes: \"+str(processes))\n",
    "    return Parallel(n_jobs=processes,prefer=\"processes\")(delayed(func)(i) for i in tqdm_notebook(iterable))\n",
    "    #return Parallel(n_jobs=1, prefer=\"processes\")(delayed(func)(i) for i in tqdm_notebook(iterable))\n",
    "\n",
    "returned = None\n",
    "times = []\n",
    "# for i in range(1,cpu_count()+1):\n",
    "#     begin = time.time()\n",
    "#     returned = parallelize(iterable, w2.parallel_flair_sentiment,i)\n",
    "#     end = time.time()\n",
    "#     print(f\"Total time taken to calculate sentiment: {end - begin} seconds\")\n",
    "#     times.append(end - begin)\n",
    "\n",
    "\n",
    "\n",
    "begin = time.time()\n",
    "returned = parallelize(iterable, w2.parallel_flair_sentiment,cpu_count())\n",
    "end = time.time()\n",
    "print(f\"Total time taken to calculate sentiment: {end - begin} seconds\")"
   ]
  },
  {
   "cell_type": "code",
   "execution_count": 52,
   "id": "a1008ba3",
   "metadata": {},
   "outputs": [
    {
     "data": {
      "image/png": "[encoded data removed]",
      "text/plain": [
       "<Figure size 432x288 with 1 Axes>"
      ]
     },
     "metadata": {
      "needs_background": "light"
     },
     "output_type": "display_data"
    }
   ],
   "source": [
    "from matplotlib import pyplot\n",
    "pyplot.plot([1,2,3,4],times)\n",
    "pyplot.xlabel(\"No. of processes\")\n",
    "pyplot.ylabel(\"Time taken in s\")\n",
    "pyplot.show()"
   ]
  },
  {
   "cell_type": "markdown",
   "id": "9c58ed2e",
   "metadata": {},
   "source": [
    "#### Multithreading"
   ]
  },
  {
   "cell_type": "code",
   "execution_count": 53,
   "id": "4c5e9bff",
   "metadata": {},
   "outputs": [
    {
     "name": "stdout",
     "output_type": "stream",
     "text": [
      "Processes: 1\n"
     ]
    },
    {
     "name": "stderr",
     "output_type": "stream",
     "text": [
      "<ipython-input-53-de6a77450d38>:5: TqdmDeprecationWarning: This function will be removed in tqdm==5.0.0\n",
      "Please use `tqdm.notebook.tqdm` instead of `tqdm.tqdm_notebook`\n",
      "  return Parallel(n_jobs=processes,prefer=\"threads\")(delayed(func)(i) for i in tqdm_notebook(iterable))\n"
     ]
    },
    {
     "data": {
      "application/vnd.jupyter.widget-view+json": {
       "model_id": "393d6d231b39491d9a2953d94db372ad",
       "version_major": 2,
       "version_minor": 0
      },
      "text/plain": [
       "  0%|          | 0/2759 [00:00<?, ?it/s]"
      ]
     },
     "metadata": {},
     "output_type": "display_data"
    },
    {
     "name": "stdout",
     "output_type": "stream",
     "text": [
      "Total time taken to calculate sentiment: 126.48633217811584 seconds\n",
      "Processes: 2\n"
     ]
    },
    {
     "data": {
      "application/vnd.jupyter.widget-view+json": {
       "model_id": "ccfe0eccdc06460399ba48a05bf76aa4",
       "version_major": 2,
       "version_minor": 0
      },
      "text/plain": [
       "  0%|          | 0/2759 [00:00<?, ?it/s]"
      ]
     },
     "metadata": {},
     "output_type": "display_data"
    },
    {
     "name": "stdout",
     "output_type": "stream",
     "text": [
      "Total time taken to calculate sentiment: 117.53100180625916 seconds\n",
      "Processes: 3\n"
     ]
    },
    {
     "data": {
      "application/vnd.jupyter.widget-view+json": {
       "model_id": "48884af8f7a3448e924d4c475ee213a9",
       "version_major": 2,
       "version_minor": 0
      },
      "text/plain": [
       "  0%|          | 0/2759 [00:00<?, ?it/s]"
      ]
     },
     "metadata": {},
     "output_type": "display_data"
    },
    {
     "name": "stdout",
     "output_type": "stream",
     "text": [
      "Total time taken to calculate sentiment: 109.76595616340637 seconds\n",
      "Processes: 4\n"
     ]
    },
    {
     "data": {
      "application/vnd.jupyter.widget-view+json": {
       "model_id": "82c156f0dbfd47fea4279a4fa973bdde",
       "version_major": 2,
       "version_minor": 0
      },
      "text/plain": [
       "  0%|          | 0/2759 [00:00<?, ?it/s]"
      ]
     },
     "metadata": {},
     "output_type": "display_data"
    },
    {
     "name": "stdout",
     "output_type": "stream",
     "text": [
      "Total time taken to calculate sentiment: 122.90000033378601 seconds\n"
     ]
    }
   ],
   "source": [
    "iterable = data.values\n",
    "\n",
    "def parallelize(iterable, func,processes):\n",
    "    print(\"Processes: \"+str(processes))\n",
    "    return Parallel(n_jobs=processes,prefer=\"threads\")(delayed(func)(i) for i in tqdm_notebook(iterable))\n",
    "    #return Parallel(n_jobs=1, prefer=\"processes\")(delayed(func)(i) for i in tqdm_notebook(iterable))\n",
    "\n",
    "returned = None\n",
    "times2 = []\n",
    "for i in range(1,cpu_count()+1):\n",
    "    begin = time.time()\n",
    "    returned = parallelize(iterable, w2.parallel_flair_sentiment,i)\n",
    "    end = time.time()\n",
    "    print(f\"Total time taken to calculate sentiment: {end - begin} seconds\")\n",
    "    times2.append(end - begin)\n",
    "#Parallel(n_jobs=cpu_count(), prefer=\"threads\")(delayed(worker.parallel_flair_sentiment)(i) for i in tqdm_notebook(iterable))\n",
    "#numpy(data.values[1])(3)"
   ]
  },
  {
   "cell_type": "code",
   "execution_count": 57,
   "id": "30268e14",
   "metadata": {},
   "outputs": [
    {
     "data": {
      "image/png": "[encoded data removed]",
      "text/plain": [
       "<Figure size 432x288 with 1 Axes>"
      ]
     },
     "metadata": {
      "needs_background": "light"
     },
     "output_type": "display_data"
    }
   ],
   "source": [
    "from matplotlib import pyplot\n",
    "pyplot.plot([1,2,3,4],times2)\n",
    "pyplot.xlabel(\"No. of threads\")\n",
    "pyplot.ylabel(\"Time taken in s\")\n",
    "pyplot.show()"
   ]
  },
  {
   "cell_type": "code",
   "execution_count": 59,
   "id": "099f28b0",
   "metadata": {},
   "outputs": [
    {
     "name": "stdout",
     "output_type": "stream",
     "text": [
      "Threads: 4\n"
     ]
    },
    {
     "name": "stderr",
     "output_type": "stream",
     "text": [
      "<ipython-input-59-a6d18b1e079f>:5: TqdmDeprecationWarning: This function will be removed in tqdm==5.0.0\n",
      "Please use `tqdm.notebook.tqdm` instead of `tqdm.tqdm_notebook`\n",
      "  return Parallel(n_jobs=processes,prefer=\"threads\")(delayed(func)(i) for i in tqdm_notebook(iterable))\n"
     ]
    },
    {
     "data": {
      "application/vnd.jupyter.widget-view+json": {
       "model_id": "01aca012845f4bb2858b57b904c3977b",
       "version_major": 2,
       "version_minor": 0
      },
      "text/plain": [
       "  0%|          | 0/2759 [00:00<?, ?it/s]"
      ]
     },
     "metadata": {},
     "output_type": "display_data"
    },
    {
     "name": "stdout",
     "output_type": "stream",
     "text": [
      "Total time taken to calculate sentiment: 99.56299901008606 seconds\n"
     ]
    }
   ],
   "source": [
    "iterable = data.values\n",
    "\n",
    "def parallelize(iterable, func,processes):\n",
    "    print(\"Threads: \"+str(processes))\n",
    "    return Parallel(n_jobs=processes,prefer=\"threads\")(delayed(func)(i) for i in tqdm_notebook(iterable))\n",
    "    #return Parallel(n_jobs=1, prefer=\"processes\")(delayed(func)(i) for i in tqdm_notebook(iterable))\n",
    "\n",
    "returned = None\n",
    "begin = time.time()\n",
    "returned = parallelize(iterable, w2.parallel_flair_sentiment,cpu_count())\n",
    "end = time.time()\n",
    "print(f\"Total time taken to calculate sentiment: {end - begin} seconds\")"
   ]
  },
  {
   "cell_type": "code",
   "execution_count": 65,
   "id": "134058a9",
   "metadata": {
    "scrolled": false
   },
   "outputs": [
    {
     "data": {
      "text/html": [
       "<div>\n",
       "<style scoped>\n",
       "    .dataframe tbody tr th:only-of-type {\n",
       "        vertical-align: middle;\n",
       "    }\n",
       "\n",
       "    .dataframe tbody tr th {\n",
       "        vertical-align: top;\n",
       "    }\n",
       "\n",
       "    .dataframe thead th {\n",
       "        text-align: right;\n",
       "    }\n",
       "</style>\n",
       "<table border=\"1\" class=\"dataframe\">\n",
       "  <thead>\n",
       "    <tr style=\"text-align: right;\">\n",
       "      <th></th>\n",
       "      <th>date</th>\n",
       "      <th>ticker</th>\n",
       "      <th>company</th>\n",
       "      <th>headline</th>\n",
       "      <th>sentiment</th>\n",
       "    </tr>\n",
       "  </thead>\n",
       "  <tbody>\n",
       "    <tr>\n",
       "      <th>0</th>\n",
       "      <td>2014-07-02</td>\n",
       "      <td>TRT</td>\n",
       "      <td>Trio-Tech International</td>\n",
       "      <td>[video] Prescription drugs: Risk vs. cost</td>\n",
       "      <td>neg</td>\n",
       "    </tr>\n",
       "    <tr>\n",
       "      <th>1</th>\n",
       "      <td>2014-10-08</td>\n",
       "      <td>TRT</td>\n",
       "      <td>Trio-Tech International</td>\n",
       "      <td>Trio-Tech Reports Profitable Fourth Quarter an...</td>\n",
       "      <td>pos</td>\n",
       "    </tr>\n",
       "    <tr>\n",
       "      <th>2</th>\n",
       "      <td>2014-10-09</td>\n",
       "      <td>TRT</td>\n",
       "      <td>Trio-Tech International</td>\n",
       "      <td>TRIO-TECH INTERNATIONAL Files SEC form 10-K, A...</td>\n",
       "      <td>neg</td>\n",
       "    </tr>\n",
       "    <tr>\n",
       "      <th>3</th>\n",
       "      <td>2014-10-10</td>\n",
       "      <td>TRT</td>\n",
       "      <td>Trio-Tech International</td>\n",
       "      <td>TRIO-TECH INTERNATIONAL Files SEC form 8-K, Re...</td>\n",
       "      <td>pos</td>\n",
       "    </tr>\n",
       "    <tr>\n",
       "      <th>4</th>\n",
       "      <td>2014-11-18</td>\n",
       "      <td>TRT</td>\n",
       "      <td>Trio-Tech International</td>\n",
       "      <td>Trio-Tech Reports Fiscal 2015 First Quarter Re...</td>\n",
       "      <td>pos</td>\n",
       "    </tr>\n",
       "    <tr>\n",
       "      <th>...</th>\n",
       "      <td>...</td>\n",
       "      <td>...</td>\n",
       "      <td>...</td>\n",
       "      <td>...</td>\n",
       "      <td>...</td>\n",
       "    </tr>\n",
       "    <tr>\n",
       "      <th>2754</th>\n",
       "      <td>2021-11-25</td>\n",
       "      <td>ESTA</td>\n",
       "      <td>Establishment Labs Holdings Inc.</td>\n",
       "      <td>Insiders who placed huge bets on Establishment...</td>\n",
       "      <td>neg</td>\n",
       "    </tr>\n",
       "    <tr>\n",
       "      <th>2755</th>\n",
       "      <td>2021-11-25</td>\n",
       "      <td>GPS</td>\n",
       "      <td>The Gap, Inc.</td>\n",
       "      <td>10 Stocks in Focus After Posting Their Financi...</td>\n",
       "      <td>neg</td>\n",
       "    </tr>\n",
       "    <tr>\n",
       "      <th>2756</th>\n",
       "      <td>2021-11-26</td>\n",
       "      <td>VG</td>\n",
       "      <td>Vonage Holdings Corp.</td>\n",
       "      <td>SHAREHOLDER ALERT: Halper Sadeh LLP Investigat...</td>\n",
       "      <td>pos</td>\n",
       "    </tr>\n",
       "    <tr>\n",
       "      <th>2757</th>\n",
       "      <td>2021-11-26</td>\n",
       "      <td>VG</td>\n",
       "      <td>Vonage Holdings Corp.</td>\n",
       "      <td>Top 10 Stock Picks of Michael Dohenys Freshfor...</td>\n",
       "      <td>pos</td>\n",
       "    </tr>\n",
       "    <tr>\n",
       "      <th>2758</th>\n",
       "      <td>2021-11-26</td>\n",
       "      <td>BLCT</td>\n",
       "      <td>BlueCity Holdings Limited</td>\n",
       "      <td>BlueCity Announces Third Quarter 2021 Unaudite...</td>\n",
       "      <td>pos</td>\n",
       "    </tr>\n",
       "  </tbody>\n",
       "</table>\n",
       "<p>2759 rows × 5 columns</p>\n",
       "</div>"
      ],
      "text/plain": [
       "            date ticker                           company  \\\n",
       "0     2014-07-02    TRT           Trio-Tech International   \n",
       "1     2014-10-08    TRT           Trio-Tech International   \n",
       "2     2014-10-09    TRT           Trio-Tech International   \n",
       "3     2014-10-10    TRT           Trio-Tech International   \n",
       "4     2014-11-18    TRT           Trio-Tech International   \n",
       "...          ...    ...                               ...   \n",
       "2754  2021-11-25   ESTA  Establishment Labs Holdings Inc.   \n",
       "2755  2021-11-25    GPS                     The Gap, Inc.   \n",
       "2756  2021-11-26     VG             Vonage Holdings Corp.   \n",
       "2757  2021-11-26     VG             Vonage Holdings Corp.   \n",
       "2758  2021-11-26   BLCT         BlueCity Holdings Limited   \n",
       "\n",
       "                                               headline sentiment  \n",
       "0             [video] Prescription drugs: Risk vs. cost       neg  \n",
       "1     Trio-Tech Reports Profitable Fourth Quarter an...       pos  \n",
       "2     TRIO-TECH INTERNATIONAL Files SEC form 10-K, A...       neg  \n",
       "3     TRIO-TECH INTERNATIONAL Files SEC form 8-K, Re...       pos  \n",
       "4     Trio-Tech Reports Fiscal 2015 First Quarter Re...       pos  \n",
       "...                                                 ...       ...  \n",
       "2754  Insiders who placed huge bets on Establishment...       neg  \n",
       "2755  10 Stocks in Focus After Posting Their Financi...       neg  \n",
       "2756  SHAREHOLDER ALERT: Halper Sadeh LLP Investigat...       pos  \n",
       "2757  Top 10 Stock Picks of Michael Dohenys Freshfor...       pos  \n",
       "2758  BlueCity Announces Third Quarter 2021 Unaudite...       pos  \n",
       "\n",
       "[2759 rows x 5 columns]"
      ]
     },
     "execution_count": 65,
     "metadata": {},
     "output_type": "execute_result"
    }
   ],
   "source": [
    "data_final = pd.DataFrame(returned,columns = [\"date\",\"ticker\",\"company\",\"headline\",'sentiment']).sort_values(\"date\").reset_index(drop=True)\n",
    "data_final"
   ]
  },
  {
   "cell_type": "code",
   "execution_count": 135,
   "id": "3b874ce6",
   "metadata": {
    "scrolled": false
   },
   "outputs": [
    {
     "name": "stdout",
     "output_type": "stream",
     "text": [
      "Enter the ticker of which you need the daily news headline sentiment ratio\n",
      "+----+----------+-----------------+----------------------------------+\n",
      "|    | ticker   | state           | company                          |\n",
      "|----+----------+-----------------+----------------------------------|\n",
      "|  0 | LGVN     | Top Gainers     | Longeveron Inc.                  |\n",
      "|  1 | LGVN     | New High        | Longeveron Inc.                  |\n",
      "|  2 | LGVN     | Most Volatile   | Longeveron Inc.                  |\n",
      "|  3 | BFRI     | Top Gainers     | Biofrontera Inc.                 |\n",
      "|  4 | BFRI     | Unusual Volume  | Biofrontera Inc.                 |\n",
      "|  5 | BFRI     | Most Active     | Biofrontera Inc.                 |\n",
      "|  6 | PTN      | Top Gainers     | Palatin Technologies, Inc.       |\n",
      "|  7 | PTN      | Unusual Volume  | Palatin Technologies, Inc.       |\n",
      "|  8 | IMCC     | Top Gainers     | IM Cannabis Corp.                |\n",
      "|  9 | BSFC     | Top Gainers     | Blue Star Foods Corp.            |\n",
      "| 10 | LOV      | Top Gainers     | Spark Networks SE                |\n",
      "| 11 | FEMY     | Top Gainers     | Femasys Inc.                     |\n",
      "| 12 | MOV      | New High        | Movado Group, Inc.               |\n",
      "| 13 | PSTG     | New High        | Pure Storage, Inc.               |\n",
      "| 14 | IRMD     | New High        | IRadimed Corporation             |\n",
      "| 15 | COKE     | Overbought      | Coca-Cola Consolidated, Inc.     |\n",
      "| 16 | TRT      | Overbought      | Trio-Tech International          |\n",
      "| 17 | OCUP     | Unusual Volume  | Ocuphire Pharma, Inc.            |\n",
      "| 18 | GAME     | Unusual Volume  | Engine Gaming and Media, Inc.    |\n",
      "| 19 | BLCT     | Earnings Before | BlueCity Holdings Limited        |\n",
      "| 20 | ESTA     | Insider Buying  | Establishment Labs Holdings Inc. |\n",
      "| 21 | QLGN     | Top Losers      | Qualigen Therapeutics, Inc.      |\n",
      "| 22 | APVO     | Top Losers      | Aptevo Therapeutics Inc.         |\n",
      "| 23 | JWN      | Top Losers      | Nordstrom, Inc.                  |\n",
      "| 24 | KTTA     | Top Losers      | Pasithea Therapeutics Corp.      |\n",
      "| 25 | VLON     | Top Losers      | Vallon Pharmaceuticals, Inc.     |\n",
      "| 26 | GPS      | Top Losers      | The Gap, Inc.                    |\n",
      "| 27 | CNTG     | New Low         | Centogene N.V.                   |\n",
      "| 28 | KURA     | New Low         | Kura Oncology, Inc.              |\n",
      "| 29 | VIOT     | New Low         | Viomi Technology Co., Ltd        |\n",
      "| 30 | PLAN     | New Low         | Anaplan, Inc.                    |\n",
      "| 31 | VSTA     | Oversold        | Vasta Platform Limited           |\n",
      "| 32 | CDZIP    | Oversold        | Cadiz Inc.                       |\n",
      "| 33 | BTTX     | Most Volatile   | Better Therapeutics, Inc.        |\n",
      "| 34 | SQQQ     | Most Active     |                                  |\n",
      "| 35 | VG       | Downgrades      | Vonage Holdings Corp.            |\n",
      "| 36 | NTZ      | Earnings After  | Natuzzi S.p.A.                   |\n",
      "| 37 | AOS      | Insider Selling | A. O. Smith Corporation          |\n",
      "+----+----------+-----------------+----------------------------------+\n",
      "AOS\n",
      "Proportion of sentiments:\n",
      "pos    54.0\n",
      "neg    46.0\n",
      "Name: sentiment, dtype: float64\n"
     ]
    },
    {
     "data": {
      "image/png": "[encoded data removed]",
      "text/plain": [
       "<Figure size 1120x800 with 1 Axes>"
      ]
     },
     "metadata": {
      "needs_background": "light"
     },
     "output_type": "display_data"
    }
   ],
   "source": [
    "from tabulate import tabulate as tblt\n",
    "tickerdf = pd.merge(pd.DataFrame(tickers).iloc[:,[0,2]],data_final.iloc[:,[1,2]],on='ticker').drop_duplicates().reset_index(drop=True)\n",
    "print(\"Enter the ticker of which you need the daily news headline sentiment ratio\")\n",
    "print(tblt(tickerdf, headers='keys', tablefmt='psql'))\n",
    "choice = input()\n",
    "\n",
    "get_by_ticker = data_final[data_final.ticker.isin([choice])].sort_values(\"date\").reset_index(drop=True)\n",
    "print(\"Proportion of sentiments:\")\n",
    "print(get_by_ticker.sentiment.value_counts()/len(get_by_ticker)*100)\n",
    "get_by_ticker.iloc[:,-1] = get_by_ticker.iloc[:,-1].replace(\"neg\",-1)\n",
    "get_by_ticker.iloc[:,-1] = get_by_ticker.iloc[:,-1].replace(\"pos\",1)\n",
    "plot_df = get_by_ticker.groupby(['date']).sum()\n",
    "\n",
    "plot_df['date'] = plot_df.index\n",
    "plot_df.reset_index(drop=True,inplace=True)\n",
    "plot_df['colors'] = ['red' if float(x) < 0 else 'green' for x in plot_df['sentiment']]\n",
    "\n",
    "pyplot.figure(figsize=(14, 10), dpi=80)\n",
    "pyplot.hlines(y=plot_df['date'], xmin=0, xmax=plot_df['sentiment'],color=plot_df['colors'], alpha=0.4, linewidth=10)\n",
    "pyplot.gca().set(ylabel='Date', xlabel='Total Sentiment')\n",
    "pyplot.yticks(plot_df['date'], plot_df['date'], fontsize=8)\n",
    "pyplot.grid(linestyle='--', alpha=0.5)\n",
    "pyplot.title(str(set(data_final[data_final.ticker.isin([choice])].company.values)), fontdict={\n",
    "          'size': 20})\n",
    "pyplot.show()\n"
   ]
  },
  {
   "cell_type": "code",
   "execution_count": null,
   "id": "2b9b38c8",
   "metadata": {},
   "outputs": [],
   "source": [
    "get_by_ticker = data_final[data_final.ticker.isin([\"LGVN\"])].sort_values(\"date\").reset_index(drop=True)\n",
    "print(\"Proportion of sentiments:\")\n",
    "print(get_by_ticker.sentiment.value_counts()/len(get_by_ticker))\n",
    "get_by_ticker.iloc[:,-1] = get_by_ticker.iloc[:,-1].replace(\"neg\",-1)\n",
    "get_by_ticker.iloc[:,-1] = get_by_ticker.iloc[:,-1].replace(\"pos\",1)\n",
    "get_by_ticker"
   ]
  },
  {
   "cell_type": "code",
   "execution_count": 107,
   "id": "46190249",
   "metadata": {},
   "outputs": [
    {
     "data": {
      "text/html": [
       "<div>\n",
       "<style scoped>\n",
       "    .dataframe tbody tr th:only-of-type {\n",
       "        vertical-align: middle;\n",
       "    }\n",
       "\n",
       "    .dataframe tbody tr th {\n",
       "        vertical-align: top;\n",
       "    }\n",
       "\n",
       "    .dataframe thead th {\n",
       "        text-align: right;\n",
       "    }\n",
       "</style>\n",
       "<table border=\"1\" class=\"dataframe\">\n",
       "  <thead>\n",
       "    <tr style=\"text-align: right;\">\n",
       "      <th></th>\n",
       "      <th>sentiment</th>\n",
       "      <th>date</th>\n",
       "      <th>colors</th>\n",
       "    </tr>\n",
       "  </thead>\n",
       "  <tbody>\n",
       "    <tr>\n",
       "      <th>0</th>\n",
       "      <td>-3</td>\n",
       "      <td>2021-10-12</td>\n",
       "      <td>red</td>\n",
       "    </tr>\n",
       "    <tr>\n",
       "      <th>1</th>\n",
       "      <td>-9</td>\n",
       "      <td>2021-10-13</td>\n",
       "      <td>red</td>\n",
       "    </tr>\n",
       "    <tr>\n",
       "      <th>2</th>\n",
       "      <td>3</td>\n",
       "      <td>2021-10-14</td>\n",
       "      <td>green</td>\n",
       "    </tr>\n",
       "    <tr>\n",
       "      <th>3</th>\n",
       "      <td>0</td>\n",
       "      <td>2021-10-15</td>\n",
       "      <td>green</td>\n",
       "    </tr>\n",
       "    <tr>\n",
       "      <th>4</th>\n",
       "      <td>-3</td>\n",
       "      <td>2021-10-16</td>\n",
       "      <td>red</td>\n",
       "    </tr>\n",
       "    <tr>\n",
       "      <th>5</th>\n",
       "      <td>-3</td>\n",
       "      <td>2021-10-17</td>\n",
       "      <td>red</td>\n",
       "    </tr>\n",
       "    <tr>\n",
       "      <th>6</th>\n",
       "      <td>-3</td>\n",
       "      <td>2021-10-18</td>\n",
       "      <td>red</td>\n",
       "    </tr>\n",
       "    <tr>\n",
       "      <th>7</th>\n",
       "      <td>0</td>\n",
       "      <td>2021-10-19</td>\n",
       "      <td>green</td>\n",
       "    </tr>\n",
       "    <tr>\n",
       "      <th>8</th>\n",
       "      <td>0</td>\n",
       "      <td>2021-10-20</td>\n",
       "      <td>green</td>\n",
       "    </tr>\n",
       "    <tr>\n",
       "      <th>9</th>\n",
       "      <td>0</td>\n",
       "      <td>2021-10-21</td>\n",
       "      <td>green</td>\n",
       "    </tr>\n",
       "    <tr>\n",
       "      <th>10</th>\n",
       "      <td>6</td>\n",
       "      <td>2021-10-22</td>\n",
       "      <td>green</td>\n",
       "    </tr>\n",
       "    <tr>\n",
       "      <th>11</th>\n",
       "      <td>-3</td>\n",
       "      <td>2021-10-23</td>\n",
       "      <td>red</td>\n",
       "    </tr>\n",
       "    <tr>\n",
       "      <th>12</th>\n",
       "      <td>-3</td>\n",
       "      <td>2021-10-25</td>\n",
       "      <td>red</td>\n",
       "    </tr>\n",
       "    <tr>\n",
       "      <th>13</th>\n",
       "      <td>-3</td>\n",
       "      <td>2021-10-26</td>\n",
       "      <td>red</td>\n",
       "    </tr>\n",
       "    <tr>\n",
       "      <th>14</th>\n",
       "      <td>3</td>\n",
       "      <td>2021-10-27</td>\n",
       "      <td>green</td>\n",
       "    </tr>\n",
       "    <tr>\n",
       "      <th>15</th>\n",
       "      <td>0</td>\n",
       "      <td>2021-10-28</td>\n",
       "      <td>green</td>\n",
       "    </tr>\n",
       "    <tr>\n",
       "      <th>16</th>\n",
       "      <td>-6</td>\n",
       "      <td>2021-10-29</td>\n",
       "      <td>red</td>\n",
       "    </tr>\n",
       "    <tr>\n",
       "      <th>17</th>\n",
       "      <td>3</td>\n",
       "      <td>2021-10-31</td>\n",
       "      <td>green</td>\n",
       "    </tr>\n",
       "    <tr>\n",
       "      <th>18</th>\n",
       "      <td>0</td>\n",
       "      <td>2021-11-01</td>\n",
       "      <td>green</td>\n",
       "    </tr>\n",
       "    <tr>\n",
       "      <th>19</th>\n",
       "      <td>-3</td>\n",
       "      <td>2021-11-02</td>\n",
       "      <td>red</td>\n",
       "    </tr>\n",
       "    <tr>\n",
       "      <th>20</th>\n",
       "      <td>-9</td>\n",
       "      <td>2021-11-03</td>\n",
       "      <td>red</td>\n",
       "    </tr>\n",
       "    <tr>\n",
       "      <th>21</th>\n",
       "      <td>-3</td>\n",
       "      <td>2021-11-04</td>\n",
       "      <td>red</td>\n",
       "    </tr>\n",
       "    <tr>\n",
       "      <th>22</th>\n",
       "      <td>-9</td>\n",
       "      <td>2021-11-05</td>\n",
       "      <td>red</td>\n",
       "    </tr>\n",
       "    <tr>\n",
       "      <th>23</th>\n",
       "      <td>-3</td>\n",
       "      <td>2021-11-07</td>\n",
       "      <td>red</td>\n",
       "    </tr>\n",
       "    <tr>\n",
       "      <th>24</th>\n",
       "      <td>-3</td>\n",
       "      <td>2021-11-08</td>\n",
       "      <td>red</td>\n",
       "    </tr>\n",
       "    <tr>\n",
       "      <th>25</th>\n",
       "      <td>-15</td>\n",
       "      <td>2021-11-09</td>\n",
       "      <td>red</td>\n",
       "    </tr>\n",
       "    <tr>\n",
       "      <th>26</th>\n",
       "      <td>-6</td>\n",
       "      <td>2021-11-10</td>\n",
       "      <td>red</td>\n",
       "    </tr>\n",
       "    <tr>\n",
       "      <th>27</th>\n",
       "      <td>-3</td>\n",
       "      <td>2021-11-11</td>\n",
       "      <td>red</td>\n",
       "    </tr>\n",
       "    <tr>\n",
       "      <th>28</th>\n",
       "      <td>3</td>\n",
       "      <td>2021-11-12</td>\n",
       "      <td>green</td>\n",
       "    </tr>\n",
       "    <tr>\n",
       "      <th>29</th>\n",
       "      <td>-3</td>\n",
       "      <td>2021-11-14</td>\n",
       "      <td>red</td>\n",
       "    </tr>\n",
       "    <tr>\n",
       "      <th>30</th>\n",
       "      <td>-3</td>\n",
       "      <td>2021-11-18</td>\n",
       "      <td>red</td>\n",
       "    </tr>\n",
       "    <tr>\n",
       "      <th>31</th>\n",
       "      <td>3</td>\n",
       "      <td>2021-11-19</td>\n",
       "      <td>green</td>\n",
       "    </tr>\n",
       "    <tr>\n",
       "      <th>32</th>\n",
       "      <td>-6</td>\n",
       "      <td>2021-11-22</td>\n",
       "      <td>red</td>\n",
       "    </tr>\n",
       "    <tr>\n",
       "      <th>33</th>\n",
       "      <td>-3</td>\n",
       "      <td>2021-11-23</td>\n",
       "      <td>red</td>\n",
       "    </tr>\n",
       "    <tr>\n",
       "      <th>34</th>\n",
       "      <td>0</td>\n",
       "      <td>2021-11-24</td>\n",
       "      <td>green</td>\n",
       "    </tr>\n",
       "  </tbody>\n",
       "</table>\n",
       "</div>"
      ],
      "text/plain": [
       "    sentiment        date colors\n",
       "0          -3  2021-10-12    red\n",
       "1          -9  2021-10-13    red\n",
       "2           3  2021-10-14  green\n",
       "3           0  2021-10-15  green\n",
       "4          -3  2021-10-16    red\n",
       "5          -3  2021-10-17    red\n",
       "6          -3  2021-10-18    red\n",
       "7           0  2021-10-19  green\n",
       "8           0  2021-10-20  green\n",
       "9           0  2021-10-21  green\n",
       "10          6  2021-10-22  green\n",
       "11         -3  2021-10-23    red\n",
       "12         -3  2021-10-25    red\n",
       "13         -3  2021-10-26    red\n",
       "14          3  2021-10-27  green\n",
       "15          0  2021-10-28  green\n",
       "16         -6  2021-10-29    red\n",
       "17          3  2021-10-31  green\n",
       "18          0  2021-11-01  green\n",
       "19         -3  2021-11-02    red\n",
       "20         -9  2021-11-03    red\n",
       "21         -3  2021-11-04    red\n",
       "22         -9  2021-11-05    red\n",
       "23         -3  2021-11-07    red\n",
       "24         -3  2021-11-08    red\n",
       "25        -15  2021-11-09    red\n",
       "26         -6  2021-11-10    red\n",
       "27         -3  2021-11-11    red\n",
       "28          3  2021-11-12  green\n",
       "29         -3  2021-11-14    red\n",
       "30         -3  2021-11-18    red\n",
       "31          3  2021-11-19  green\n",
       "32         -6  2021-11-22    red\n",
       "33         -3  2021-11-23    red\n",
       "34          0  2021-11-24  green"
      ]
     },
     "execution_count": 107,
     "metadata": {},
     "output_type": "execute_result"
    }
   ],
   "source": [
    "plot_df = get_by_ticker.groupby(['date']).sum()\n",
    "\n",
    "plot_df['date'] = plot_df.index\n",
    "plot_df.reset_index(drop=True,inplace=True)\n",
    "plot_df['colors'] = ['red' if float(x) < 0 else 'green' for x in plot_df['sentiment']]\n",
    "plot_df"
   ]
  },
  {
   "cell_type": "code",
   "execution_count": 115,
   "id": "9f6fc24e",
   "metadata": {},
   "outputs": [
    {
     "data": {
      "image/png": "[encoded data removed]",
      "text/plain": [
       "<Figure size 1120x800 with 1 Axes>"
      ]
     },
     "metadata": {
      "needs_background": "light"
     },
     "output_type": "display_data"
    }
   ],
   "source": [
    "pyplot.figure(figsize=(14, 10), dpi=80)\n",
    "pyplot.hlines(y=plot_df['date'], xmin=0, xmax=plot_df['sentiment'],\n",
    "           color=plot_df['colors'], alpha=0.4, linewidth=5)\n",
    "pyplot.gca().set(ylabel='Date', xlabel='Total Sentiment')\n",
    "pyplot.yticks(plot_df['date'], plot_df['date'], fontsize=12)\n",
    "pyplot.grid(linestyle='--', alpha=0.5)\n",
    "pyplot.show()"
   ]
  },
  {
   "cell_type": "code",
   "execution_count": null,
   "id": "13483fc0",
   "metadata": {},
   "outputs": [],
   "source": []
  }
 ],
 "metadata": {
  "kernelspec": {
   "display_name": "Python 3",
   "language": "python",
   "name": "python3"
  },
  "language_info": {
   "codemirror_mode": {
    "name": "ipython",
    "version": 3
   },
   "file_extension": ".py",
   "mimetype": "text/x-python",
   "name": "python",
   "nbconvert_exporter": "python",
   "pygments_lexer": "ipython3",
   "version": "3.8.8"
  },
  "latex_envs": {
   "LaTeX_envs_menu_present": true,
   "autoclose": false,
   "autocomplete": true,
   "bibliofile": "biblio.bib",
   "cite_by": "apalike",
   "current_citInitial": 1,
   "eqLabelWithNumbers": true,
   "eqNumInitial": 1,
   "hotkeys": {
    "equation": "Ctrl-E",
    "itemize": "Ctrl-I"
   },
   "labels_anchors": false,
   "latex_user_defs": false,
   "report_style_numbering": false,
   "user_envs_cfg": false
  }
 },
 "nbformat": 4,
 "nbformat_minor": 5
}
