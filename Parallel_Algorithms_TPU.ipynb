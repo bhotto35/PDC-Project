{
  "nbformat": 4,
  "nbformat_minor": 0,
  "metadata": {
    "colab": {
      "name": "PDC1_TPU (1).ipynb",
      "provenance": [],
      "collapsed_sections": [],
      "include_colab_link": true
    },
    "kernelspec": {
      "name": "python3",
      "display_name": "Python 3"
    },
    "language_info": {
      "name": "python"
    },
    "accelerator": "TPU"
  },
  "cells": [
    {
      "cell_type": "markdown",
      "metadata": {
        "id": "view-in-github",
        "colab_type": "text"
      },
      "source": [
        "<a href=\"https://colab.research.google.com/github/bhotto35/PDC-Project/blob/main/Parallel_Algorithms_TPU.ipynb\" target=\"_parent\"><img src=\"https://colab.research.google.com/assets/colab-badge.svg\" alt=\"Open In Colab\"/></a>"
      ]
    },
    {
      "cell_type": "code",
      "metadata": {
        "id": "6qxGrdW6AOGc"
      },
      "source": [
        "import pandas as pd \n"
      ],
      "execution_count": null,
      "outputs": []
    },
    {
      "cell_type": "code",
      "metadata": {
        "id": "RyG3VrW5AWVG"
      },
      "source": [
        "df = pd.read_csv('/content/consolidated.csv')"
      ],
      "execution_count": null,
      "outputs": []
    },
    {
      "cell_type": "code",
      "metadata": {
        "colab": {
          "base_uri": "https://localhost:8080/",
          "height": 327
        },
        "id": "9wI3Hg7jtkn2",
        "outputId": "9d21485f-4cd3-4e17-e86e-052fd71ebb36"
      },
      "source": [
        "df.head()"
      ],
      "execution_count": null,
      "outputs": [
        {
          "output_type": "execute_result",
          "data": {
            "text/html": [
              "<div>\n",
              "<style scoped>\n",
              "    .dataframe tbody tr th:only-of-type {\n",
              "        vertical-align: middle;\n",
              "    }\n",
              "\n",
              "    .dataframe tbody tr th {\n",
              "        vertical-align: top;\n",
              "    }\n",
              "\n",
              "    .dataframe thead th {\n",
              "        text-align: right;\n",
              "    }\n",
              "</style>\n",
              "<table border=\"1\" class=\"dataframe\">\n",
              "  <thead>\n",
              "    <tr style=\"text-align: right;\">\n",
              "      <th></th>\n",
              "      <th>Date</th>\n",
              "      <th>1</th>\n",
              "      <th>2</th>\n",
              "      <th>3</th>\n",
              "      <th>4</th>\n",
              "      <th>5</th>\n",
              "      <th>6</th>\n",
              "      <th>7</th>\n",
              "      <th>8</th>\n",
              "      <th>9</th>\n",
              "      <th>10</th>\n",
              "      <th>11</th>\n",
              "      <th>12</th>\n",
              "      <th>Label</th>\n",
              "      <th>Pct_inc</th>\n",
              "      <th>Bin_label</th>\n",
              "      <th>Up</th>\n",
              "      <th>Down</th>\n",
              "    </tr>\n",
              "  </thead>\n",
              "  <tbody>\n",
              "    <tr>\n",
              "      <th>0</th>\n",
              "      <td>08-09-1998</td>\n",
              "      <td>Boeing gets Varig order</td>\n",
              "      <td>Airbus gets Emirates order</td>\n",
              "      <td>Dow set for early takeoff</td>\n",
              "      <td>CNNfn market movers</td>\n",
              "      <td>NaN</td>\n",
              "      <td>NaN</td>\n",
              "      <td>NaN</td>\n",
              "      <td>NaN</td>\n",
              "      <td>NaN</td>\n",
              "      <td>NaN</td>\n",
              "      <td>NaN</td>\n",
              "      <td>NaN</td>\n",
              "      <td>Inc</td>\n",
              "      <td>1.936619718</td>\n",
              "      <td>Up</td>\n",
              "      <td>1</td>\n",
              "      <td>0</td>\n",
              "    </tr>\n",
              "    <tr>\n",
              "      <th>1</th>\n",
              "      <td>09-09-1998</td>\n",
              "      <td>UPS flies with Airbus</td>\n",
              "      <td>Boeing  Airbus split order</td>\n",
              "      <td>NaN</td>\n",
              "      <td>NaN</td>\n",
              "      <td>NaN</td>\n",
              "      <td>NaN</td>\n",
              "      <td>NaN</td>\n",
              "      <td>NaN</td>\n",
              "      <td>NaN</td>\n",
              "      <td>NaN</td>\n",
              "      <td>NaN</td>\n",
              "      <td>NaN</td>\n",
              "      <td>Dec</td>\n",
              "      <td>-2.590673575</td>\n",
              "      <td>Down</td>\n",
              "      <td>0</td>\n",
              "      <td>1</td>\n",
              "    </tr>\n",
              "    <tr>\n",
              "      <th>2</th>\n",
              "      <td>05-10-1998</td>\n",
              "      <td>Boeing boosts output</td>\n",
              "      <td>NaN</td>\n",
              "      <td>NaN</td>\n",
              "      <td>NaN</td>\n",
              "      <td>NaN</td>\n",
              "      <td>NaN</td>\n",
              "      <td>NaN</td>\n",
              "      <td>NaN</td>\n",
              "      <td>NaN</td>\n",
              "      <td>NaN</td>\n",
              "      <td>NaN</td>\n",
              "      <td>NaN</td>\n",
              "      <td>Inc</td>\n",
              "      <td>2.111324376</td>\n",
              "      <td>Up</td>\n",
              "      <td>1</td>\n",
              "      <td>0</td>\n",
              "    </tr>\n",
              "    <tr>\n",
              "      <th>3</th>\n",
              "      <td>07-10-1998</td>\n",
              "      <td>Raytheon cuts 14000 jobs</td>\n",
              "      <td>Open skies' at an impasse</td>\n",
              "      <td>NaN</td>\n",
              "      <td>NaN</td>\n",
              "      <td>NaN</td>\n",
              "      <td>NaN</td>\n",
              "      <td>NaN</td>\n",
              "      <td>NaN</td>\n",
              "      <td>NaN</td>\n",
              "      <td>NaN</td>\n",
              "      <td>NaN</td>\n",
              "      <td>NaN</td>\n",
              "      <td>Dec</td>\n",
              "      <td>-2.466793169</td>\n",
              "      <td>Down</td>\n",
              "      <td>0</td>\n",
              "      <td>1</td>\n",
              "    </tr>\n",
              "    <tr>\n",
              "      <th>4</th>\n",
              "      <td>08-10-1998</td>\n",
              "      <td>Wall Street struggles in pain</td>\n",
              "      <td>Selling pressure eases</td>\n",
              "      <td>Wall Street reels in pain</td>\n",
              "      <td>Wall St. shaken up</td>\n",
              "      <td>More turmoil for U.S. stocks</td>\n",
              "      <td>Yen takes second bite of bond</td>\n",
              "      <td>NaN</td>\n",
              "      <td>NaN</td>\n",
              "      <td>NaN</td>\n",
              "      <td>NaN</td>\n",
              "      <td>NaN</td>\n",
              "      <td>NaN</td>\n",
              "      <td>Dec</td>\n",
              "      <td>-2.946954813</td>\n",
              "      <td>Down</td>\n",
              "      <td>0</td>\n",
              "      <td>1</td>\n",
              "    </tr>\n",
              "  </tbody>\n",
              "</table>\n",
              "</div>"
            ],
            "text/plain": [
              "         Date                              1  ... Up Down\n",
              "0  08-09-1998        Boeing gets Varig order  ...  1    0\n",
              "1  09-09-1998          UPS flies with Airbus  ...  0    1\n",
              "2  05-10-1998           Boeing boosts output  ...  1    0\n",
              "3  07-10-1998       Raytheon cuts 14000 jobs  ...  0    1\n",
              "4  08-10-1998  Wall Street struggles in pain  ...  0    1\n",
              "\n",
              "[5 rows x 18 columns]"
            ]
          },
          "metadata": {},
          "execution_count": 3
        }
      ]
    },
    {
      "cell_type": "code",
      "metadata": {
        "colab": {
          "base_uri": "https://localhost:8080/",
          "height": 407
        },
        "id": "3LEAiAZLt7VO",
        "outputId": "ceff2f01-fbd8-478e-e598-fbfdb7d2d8e0"
      },
      "source": [
        "df2 = df[['1','2','3','4','5','6','7','8','9','10','11','12','Bin_label']]\n",
        "df2[\"News Headline\"] = \"\"\n",
        "for i in range(len(df2)):\n",
        "  for j in df2.loc[i]:\n",
        "    if not pd.isna(j):\n",
        "      df2['News Headline'][i] = df2['News Headline'][i]+\". \"+str(j)\n",
        "    else:\n",
        "      break\n",
        "df3 = df2[['News Headline','Bin_label']]\n",
        "df3.head()"
      ],
      "execution_count": null,
      "outputs": [
        {
          "output_type": "stream",
          "name": "stderr",
          "text": [
            "/usr/local/lib/python3.7/dist-packages/ipykernel_launcher.py:2: SettingWithCopyWarning: \n",
            "A value is trying to be set on a copy of a slice from a DataFrame.\n",
            "Try using .loc[row_indexer,col_indexer] = value instead\n",
            "\n",
            "See the caveats in the documentation: https://pandas.pydata.org/pandas-docs/stable/user_guide/indexing.html#returning-a-view-versus-a-copy\n",
            "  \n",
            "/usr/local/lib/python3.7/dist-packages/IPython/core/interactiveshell.py:2882: SettingWithCopyWarning: \n",
            "A value is trying to be set on a copy of a slice from a DataFrame\n",
            "\n",
            "See the caveats in the documentation: https://pandas.pydata.org/pandas-docs/stable/user_guide/indexing.html#returning-a-view-versus-a-copy\n",
            "  exec(code_obj, self.user_global_ns, self.user_ns)\n"
          ]
        },
        {
          "output_type": "execute_result",
          "data": {
            "text/html": [
              "<div>\n",
              "<style scoped>\n",
              "    .dataframe tbody tr th:only-of-type {\n",
              "        vertical-align: middle;\n",
              "    }\n",
              "\n",
              "    .dataframe tbody tr th {\n",
              "        vertical-align: top;\n",
              "    }\n",
              "\n",
              "    .dataframe thead th {\n",
              "        text-align: right;\n",
              "    }\n",
              "</style>\n",
              "<table border=\"1\" class=\"dataframe\">\n",
              "  <thead>\n",
              "    <tr style=\"text-align: right;\">\n",
              "      <th></th>\n",
              "      <th>News Headline</th>\n",
              "      <th>Bin_label</th>\n",
              "    </tr>\n",
              "  </thead>\n",
              "  <tbody>\n",
              "    <tr>\n",
              "      <th>0</th>\n",
              "      <td>. Boeing gets Varig order. Airbus gets Emirate...</td>\n",
              "      <td>Up</td>\n",
              "    </tr>\n",
              "    <tr>\n",
              "      <th>1</th>\n",
              "      <td>. UPS flies with Airbus. Boeing  Airbus split ...</td>\n",
              "      <td>Down</td>\n",
              "    </tr>\n",
              "    <tr>\n",
              "      <th>2</th>\n",
              "      <td>. Boeing boosts output</td>\n",
              "      <td>Up</td>\n",
              "    </tr>\n",
              "    <tr>\n",
              "      <th>3</th>\n",
              "      <td>. Raytheon cuts 14000 jobs. Open skies' at an ...</td>\n",
              "      <td>Down</td>\n",
              "    </tr>\n",
              "    <tr>\n",
              "      <th>4</th>\n",
              "      <td>. Wall Street struggles in pain. Selling press...</td>\n",
              "      <td>Down</td>\n",
              "    </tr>\n",
              "  </tbody>\n",
              "</table>\n",
              "</div>"
            ],
            "text/plain": [
              "                                       News Headline Bin_label\n",
              "0  . Boeing gets Varig order. Airbus gets Emirate...        Up\n",
              "1  . UPS flies with Airbus. Boeing  Airbus split ...      Down\n",
              "2                             . Boeing boosts output        Up\n",
              "3  . Raytheon cuts 14000 jobs. Open skies' at an ...      Down\n",
              "4  . Wall Street struggles in pain. Selling press...      Down"
            ]
          },
          "metadata": {},
          "execution_count": 4
        }
      ]
    },
    {
      "cell_type": "code",
      "metadata": {
        "colab": {
          "base_uri": "https://localhost:8080/",
          "height": 206
        },
        "id": "-Tb_j0kQvQgf",
        "outputId": "134f1968-a033-4dc4-f052-bbf5de565213"
      },
      "source": [
        "df3.head()"
      ],
      "execution_count": null,
      "outputs": [
        {
          "output_type": "execute_result",
          "data": {
            "text/html": [
              "<div>\n",
              "<style scoped>\n",
              "    .dataframe tbody tr th:only-of-type {\n",
              "        vertical-align: middle;\n",
              "    }\n",
              "\n",
              "    .dataframe tbody tr th {\n",
              "        vertical-align: top;\n",
              "    }\n",
              "\n",
              "    .dataframe thead th {\n",
              "        text-align: right;\n",
              "    }\n",
              "</style>\n",
              "<table border=\"1\" class=\"dataframe\">\n",
              "  <thead>\n",
              "    <tr style=\"text-align: right;\">\n",
              "      <th></th>\n",
              "      <th>News Headline</th>\n",
              "      <th>Bin_label</th>\n",
              "    </tr>\n",
              "  </thead>\n",
              "  <tbody>\n",
              "    <tr>\n",
              "      <th>0</th>\n",
              "      <td>. Boeing gets Varig order. Airbus gets Emirate...</td>\n",
              "      <td>Up</td>\n",
              "    </tr>\n",
              "    <tr>\n",
              "      <th>1</th>\n",
              "      <td>. UPS flies with Airbus. Boeing  Airbus split ...</td>\n",
              "      <td>Down</td>\n",
              "    </tr>\n",
              "    <tr>\n",
              "      <th>2</th>\n",
              "      <td>. Boeing boosts output</td>\n",
              "      <td>Up</td>\n",
              "    </tr>\n",
              "    <tr>\n",
              "      <th>3</th>\n",
              "      <td>. Raytheon cuts 14000 jobs. Open skies' at an ...</td>\n",
              "      <td>Down</td>\n",
              "    </tr>\n",
              "    <tr>\n",
              "      <th>4</th>\n",
              "      <td>. Wall Street struggles in pain. Selling press...</td>\n",
              "      <td>Down</td>\n",
              "    </tr>\n",
              "  </tbody>\n",
              "</table>\n",
              "</div>"
            ],
            "text/plain": [
              "                                       News Headline Bin_label\n",
              "0  . Boeing gets Varig order. Airbus gets Emirate...        Up\n",
              "1  . UPS flies with Airbus. Boeing  Airbus split ...      Down\n",
              "2                             . Boeing boosts output        Up\n",
              "3  . Raytheon cuts 14000 jobs. Open skies' at an ...      Down\n",
              "4  . Wall Street struggles in pain. Selling press...      Down"
            ]
          },
          "metadata": {},
          "execution_count": 5
        }
      ]
    },
    {
      "cell_type": "code",
      "metadata": {
        "id": "XUYPKqGexivo"
      },
      "source": [
        "features = df3['News Headline'].values\n",
        "labels = df3['Bin_label'].values"
      ],
      "execution_count": null,
      "outputs": []
    },
    {
      "cell_type": "code",
      "metadata": {
        "id": "nlkLx6paxs9e"
      },
      "source": [
        "processed_features = []\n",
        "import re\n",
        "for sentence in range(0, len(features)):\n",
        "    # Remove all the special characters\n",
        "    processed_feature = re.sub(r'\\W', ' ', str(features[sentence]))\n",
        "\n",
        "    # remove all single characters\n",
        "    processed_feature= re.sub(r'\\s+[a-zA-Z]\\s+', ' ', processed_feature)\n",
        "\n",
        "    # Remove single characters from the start\n",
        "    processed_feature = re.sub(r'\\^[a-zA-Z]\\s+', ' ', processed_feature) \n",
        "\n",
        "    # Substituting multiple spaces with single space\n",
        "    processed_feature = re.sub(r'\\s+', ' ', processed_feature, flags=re.I)\n",
        "\n",
        "    # Removing prefixed 'b'\n",
        "    processed_feature = re.sub(r'^b\\s+', '', processed_feature)\n",
        "\n",
        "    # Converting to Lowercase\n",
        "    processed_feature = processed_feature.lower()\n",
        "\n",
        "    processed_features.append(processed_feature)"
      ],
      "execution_count": null,
      "outputs": []
    },
    {
      "cell_type": "code",
      "metadata": {
        "colab": {
          "base_uri": "https://localhost:8080/"
        },
        "id": "16bJr00Kxyls",
        "outputId": "238e4696-f957-4dd7-e9d9-23f4c1ac1826"
      },
      "source": [
        "import nltk\n",
        "nltk.download('stopwords')\n",
        "\n",
        "from nltk.corpus import stopwords\n",
        "from sklearn.feature_extraction.text import TfidfVectorizer\n",
        "\n",
        "vectorizer = TfidfVectorizer (max_features=2500, min_df=7, max_df=0.8, stop_words=stopwords.words('english'))\n",
        "processed_features = vectorizer.fit_transform(processed_features).toarray()"
      ],
      "execution_count": null,
      "outputs": [
        {
          "output_type": "stream",
          "name": "stdout",
          "text": [
            "[nltk_data] Downloading package stopwords to /root/nltk_data...\n",
            "[nltk_data]   Unzipping corpora/stopwords.zip.\n"
          ]
        }
      ]
    },
    {
      "cell_type": "code",
      "metadata": {
        "id": "jWZ-50n5x9a9"
      },
      "source": [
        "from sklearn.model_selection import train_test_split\n",
        "\n",
        "X_train, X_test, y_train, y_test = train_test_split(processed_features, labels, test_size=0.2, random_state=0)"
      ],
      "execution_count": null,
      "outputs": []
    },
    {
      "cell_type": "code",
      "metadata": {
        "colab": {
          "base_uri": "https://localhost:8080/"
        },
        "id": "wi8IaBdRyKDR",
        "outputId": "c4c85030-582a-46a6-fe79-17606b603953"
      },
      "source": [
        "from sklearn.ensemble import RandomForestClassifier\n",
        "\n",
        "text_classifier = RandomForestClassifier(n_estimators=200, random_state=0,n_jobs=2)\n",
        "text_classifier.fit(X_train, y_train)"
      ],
      "execution_count": null,
      "outputs": [
        {
          "output_type": "execute_result",
          "data": {
            "text/plain": [
              "RandomForestClassifier(n_estimators=200, n_jobs=2, random_state=0)"
            ]
          },
          "metadata": {},
          "execution_count": 10
        }
      ]
    },
    {
      "cell_type": "code",
      "metadata": {
        "id": "SMVH3ZtFyQpX"
      },
      "source": [
        "predictions = text_classifier.predict(X_test)"
      ],
      "execution_count": null,
      "outputs": []
    },
    {
      "cell_type": "code",
      "metadata": {
        "colab": {
          "base_uri": "https://localhost:8080/"
        },
        "id": "Du7yAMgWy5M4",
        "outputId": "5db9da9b-93ed-4122-9316-0b875842519d"
      },
      "source": [
        "from sklearn.metrics import classification_report, confusion_matrix, accuracy_score\n",
        "\n",
        "print(confusion_matrix(y_test,predictions))\n",
        "print(classification_report(y_test,predictions))\n",
        "print(accuracy_score(y_test, predictions))"
      ],
      "execution_count": null,
      "outputs": [
        {
          "output_type": "stream",
          "name": "stdout",
          "text": [
            "[[  1   0   0]\n",
            " [  0 353 290]\n",
            " [  0 303 269]]\n",
            "              precision    recall  f1-score   support\n",
            "\n",
            "   Bin_label       1.00      1.00      1.00         1\n",
            "        Down       0.54      0.55      0.54       643\n",
            "          Up       0.48      0.47      0.48       572\n",
            "\n",
            "    accuracy                           0.51      1216\n",
            "   macro avg       0.67      0.67      0.67      1216\n",
            "weighted avg       0.51      0.51      0.51      1216\n",
            "\n",
            "0.5123355263157895\n"
          ]
        }
      ]
    },
    {
      "cell_type": "code",
      "metadata": {
        "colab": {
          "base_uri": "https://localhost:8080/",
          "height": 412
        },
        "id": "pjLljRoty7Xz",
        "outputId": "35669634-8061-4469-88d9-6bfe6fbbf0ad"
      },
      "source": [
        "n_cores = [1, 2, 3, 4, 5, 6, 7, 8]\n",
        "from matplotlib import pyplot\n",
        "from time import time\n",
        "results = list()\n",
        "for n in n_cores:\n",
        "\t# capture current time\n",
        "\tstart = time()\n",
        "\t# define the model\n",
        "\tmodel = RandomForestClassifier(n_estimators=500, n_jobs=n)\n",
        "\t# fit the model\n",
        "\tmodel.fit(X_train, y_train)\n",
        "\t# capture current time\n",
        "\tend = time()\n",
        "\t# store execution time\n",
        "\tresult = end - start\n",
        "\tprint('>cores=%d: %.3f seconds' % (n, result))\n",
        "\tresults.append(result)\n",
        "pyplot.plot(n_cores, results)\n",
        "pyplot.show()"
      ],
      "execution_count": null,
      "outputs": [
        {
          "output_type": "stream",
          "name": "stdout",
          "text": [
            ">cores=1: 69.691 seconds\n",
            ">cores=2: 60.475 seconds\n",
            ">cores=3: 66.164 seconds\n",
            ">cores=4: 67.313 seconds\n",
            ">cores=5: 67.571 seconds\n",
            ">cores=6: 71.148 seconds\n",
            ">cores=7: 71.074 seconds\n",
            ">cores=8: 71.654 seconds\n"
          ]
        },
        {
          "output_type": "display_data",
          "data": {
            "image/png": "[encoded data removed]",
            "text/plain": [
              "<Figure size 432x288 with 1 Axes>"
            ]
          },
          "metadata": {
            "needs_background": "light"
          }
        }
      ]
    },
    {
      "cell_type": "code",
      "metadata": {
        "colab": {
          "base_uri": "https://localhost:8080/",
          "height": 411
        },
        "id": "0VjLpaFF-pr_",
        "outputId": "22bc6580-a6de-4c84-8612-9df095a372ee"
      },
      "source": [
        "n_cores = [1, 2, 3, 4, 5, 6, 7, 8]\n",
        "n_cores_mini = [1,2,3,4]\n",
        "from sklearn import svm\n",
        "from sklearn.neighbors import KNeighborsClassifier\n",
        "from matplotlib import pyplot\n",
        "from sklearn.naive_bayes import GaussianNB\n",
        "from time import time\n",
        "results = list()\n",
        "for n in n_cores:\n",
        "\t# capture current time\n",
        "\tstart = time()\n",
        "\t# define the model\n",
        "\tneigh = KNeighborsClassifier(n_neighbors=5,n_jobs=n)\n",
        "\t# fit the model\n",
        "\tneigh.fit(X_train, y_train)\n",
        "\t# capture current time\n",
        "\tend = time()\n",
        "\t# store execution time\n",
        "\tresult = end - start\n",
        "\tprint('>cores=%d: %.3f seconds' % (n, result))\n",
        "\tresults.append(result)\n",
        "pyplot.plot(n_cores, results)\n",
        "pyplot.show()"
      ],
      "execution_count": null,
      "outputs": [
        {
          "output_type": "stream",
          "name": "stdout",
          "text": [
            ">cores=1: 0.015 seconds\n",
            ">cores=2: 0.011 seconds\n",
            ">cores=3: 0.011 seconds\n",
            ">cores=4: 0.011 seconds\n",
            ">cores=5: 0.013 seconds\n",
            ">cores=6: 0.011 seconds\n",
            ">cores=7: 0.011 seconds\n",
            ">cores=8: 0.011 seconds\n"
          ]
        },
        {
          "output_type": "display_data",
          "data": {
            "image/png": "[encoded data removed]",
            "text/plain": [
              "<Figure size 432x288 with 1 Axes>"
            ]
          },
          "metadata": {
            "needs_background": "light"
          }
        }
      ]
    },
    {
      "cell_type": "code",
      "metadata": {
        "id": "HbEaEcG-ytwz"
      },
      "source": [
        ""
      ],
      "execution_count": null,
      "outputs": []
    }
  ]
}